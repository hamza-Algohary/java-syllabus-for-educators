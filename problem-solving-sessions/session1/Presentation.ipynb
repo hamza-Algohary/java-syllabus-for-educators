{
 "cells": [
  {
   "cell_type": "markdown",
   "id": "add262b3",
   "metadata": {},
   "source": [
    "# Out lines"
   ]
  },
  {
   "cell_type": "markdown",
   "id": "a31e04bf",
   "metadata": {
    "heading_collapsed": true
   },
   "source": [
    "## Getting familier with codeforces and Leetcode "
   ]
  },
  {
   "cell_type": "markdown",
   "id": "7db08845",
   "metadata": {
    "hidden": true
   },
   "source": [
    "- [codeforces](codeforces.com)"
   ]
  },
  {
   "cell_type": "markdown",
   "id": "537fa1fa",
   "metadata": {
    "hidden": true
   },
   "source": [
    "- [Leetcode](leetcode.com)"
   ]
  },
  {
   "cell_type": "markdown",
   "id": "891016e6",
   "metadata": {},
   "source": [
    "## The way of thinking before starting to implement the solution"
   ]
  },
  {
   "cell_type": "markdown",
   "id": "761ec06b",
   "metadata": {},
   "source": [
    "### 1) Understand the Problem Thoroughly"
   ]
  },
  {
   "cell_type": "markdown",
   "id": "8e7c7f65",
   "metadata": {},
   "source": [
    "* Read the Problem Statement Carefully: Identify what is given, the constraints, and what the problem is asking for.\n",
    "* Clarify Any Edge Cases: Think about unusual inputs or edge cases, as these often lead to errors if overlooked.\n",
    "* Define Inputs and Outputs Clearly: Ensure you know what type of data you'll be handling and what format the output should take."
   ]
  },
  {
   "cell_type": "markdown",
   "id": "f3351615",
   "metadata": {},
   "source": [
    "### 2) Create a Step-by-Step Plan (inside your head)"
   ]
  },
  {
   "cell_type": "markdown",
   "id": "106839a5",
   "metadata": {},
   "source": [
    "- Outline the Solution with Pseudo-Code: Write out a basic structure or rough algorithm in plain language to organize your logic.\n",
    "- Check Against Sample Inputs: Walk through your approach with sample inputs to verify the steps make sense."
   ]
  },
  {
   "cell_type": "markdown",
   "id": "1b29eece",
   "metadata": {},
   "source": [
    "### 3) Consider Alternative Solutions"
   ]
  },
  {
   "cell_type": "markdown",
   "id": "3ee6aa7c",
   "metadata": {},
   "source": [
    "- Evaluate Different Approaches: Think of multiple ways to solve the problem (e.g., brute force, optimized solutions) and weigh their advantages.\n",
    "- Choose the Best Fit: Select the solution that best fits the problem’s constraints and your current understanding."
   ]
  },
  {
   "cell_type": "markdown",
   "id": "0837fb7d",
   "metadata": {
    "heading_collapsed": true
   },
   "source": [
    "## Starting with some bacis problems"
   ]
  },
  {
   "cell_type": "markdown",
   "id": "9471f553",
   "metadata": {
    "heading_collapsed": true,
    "hidden": true
   },
   "source": [
    "### \"What is the safest way to determine if a number is even or odd?\""
   ]
  },
  {
   "cell_type": "markdown",
   "id": "133bb66b",
   "metadata": {
    "heading_collapsed": true,
    "hidden": true
   },
   "source": [
    "### Problem 1: sorting three numbers"
   ]
  },
  {
   "cell_type": "markdown",
   "id": "e359e2d5",
   "metadata": {
    "hidden": true
   },
   "source": [
    "- Get three numbers from user and print them sorted in ascending order"
   ]
  },
  {
   "cell_type": "markdown",
   "id": "72817364",
   "metadata": {
    "heading_collapsed": true,
    "hidden": true
   },
   "source": [
    "### Problem2: Shape 1"
   ]
  },
  {
   "cell_type": "markdown",
   "id": "7ee7a9e6",
   "metadata": {
    "hidden": true
   },
   "source": [
    "[problem_link](https://codeforces.com/group/Bu2yXAqHyK/contest/465964/problem/P)"
   ]
  },
  {
   "cell_type": "markdown",
   "id": "ac06c4d4",
   "metadata": {
    "hidden": true
   },
   "source": [
    "### Problem 3: Some sums"
   ]
  },
  {
   "cell_type": "markdown",
   "id": "071d38ab",
   "metadata": {
    "hidden": true
   },
   "source": [
    "[problem_link](https://codeforces.com/group/Bu2yXAqHyK/contest/465964/problem/U)"
   ]
  },
  {
   "cell_type": "markdown",
   "id": "f1a2a5f6",
   "metadata": {
    "heading_collapsed": true
   },
   "source": [
    "## Some Advanced problems"
   ]
  },
  {
   "cell_type": "markdown",
   "id": "6ccb5d3b",
   "metadata": {
    "heading_collapsed": true,
    "hidden": true
   },
   "source": [
    "### Problem 4: Determine if a Number is Prime"
   ]
  },
  {
   "cell_type": "markdown",
   "id": "8c3eb417",
   "metadata": {
    "hidden": true
   },
   "source": [
    "1) **First Approach**: Use a loop to check divisibility for each number up to the target number."
   ]
  },
  {
   "cell_type": "markdown",
   "id": "1fbec1c2",
   "metadata": {
    "hidden": true
   },
   "source": [
    "2) **Second Approach**: Optimize by skipping even numbers."
   ]
  },
  {
   "cell_type": "markdown",
   "id": "ae0baa2f",
   "metadata": {
    "hidden": true
   },
   "source": [
    "3) **Third Approach**: Optimize further by only checking divisibility up to the square root of the target number."
   ]
  },
  {
   "cell_type": "markdown",
   "id": "acda0514",
   "metadata": {
    "hidden": true
   },
   "source": [
    "### Problem 5: Sum of Digits"
   ]
  },
  {
   "cell_type": "markdown",
   "id": "dbc60e49",
   "metadata": {
    "hidden": true
   },
   "source": [
    "[problem_link](https://codeforces.com/group/Bu2yXAqHyK/contest/465964/problem/Q)"
   ]
  },
  {
   "cell_type": "markdown",
   "id": "c9ed80f9",
   "metadata": {
    "hidden": true
   },
   "source": [
    "### Probelm 6: Shape 2"
   ]
  },
  {
   "cell_type": "markdown",
   "id": "d8664ea2",
   "metadata": {
    "hidden": true
   },
   "source": [
    "[problem_link](https://codeforces.com/group/Bu2yXAqHyK/contest/465964/problem/T)"
   ]
  },
  {
   "cell_type": "markdown",
   "id": "be5df466",
   "metadata": {
    "heading_collapsed": true
   },
   "source": [
    "## Talking about basics"
   ]
  }
 ],
 "metadata": {
  "kernelspec": {
   "display_name": "Python 3 (ipykernel)",
   "language": "python",
   "name": "python3"
  },
  "language_info": {
   "codemirror_mode": {
    "name": "ipython",
    "version": 3
   },
   "file_extension": ".py",
   "mimetype": "text/x-python",
   "name": "python",
   "nbconvert_exporter": "python",
   "pygments_lexer": "ipython3",
   "version": "3.12.3"
  }
 },
 "nbformat": 4,
 "nbformat_minor": 5
}
